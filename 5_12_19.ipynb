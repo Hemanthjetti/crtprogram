{
  "nbformat": 4,
  "nbformat_minor": 0,
  "metadata": {
    "colab": {
      "name": "5/12/19",
      "provenance": [],
      "include_colab_link": true
    },
    "kernelspec": {
      "name": "python3",
      "display_name": "Python 3"
    }
  },
  "cells": [
    {
      "cell_type": "markdown",
      "metadata": {
        "id": "view-in-github",
        "colab_type": "text"
      },
      "source": [
        "<a href=\"https://colab.research.google.com/github/Hemanthjetti/crtprogram/blob/master/5_12_19.ipynb\" target=\"_parent\"><img src=\"https://colab.research.google.com/assets/colab-badge.svg\" alt=\"Open In Colab\"/></a>"
      ]
    },
    {
      "cell_type": "code",
      "metadata": {
        "id": "odLDckeZIp0o",
        "colab_type": "code",
        "outputId": "3b6d8984-c1ad-40d0-d5f9-e59cdbfec992",
        "colab": {
          "base_uri": "https://localhost:8080/",
          "height": 85
        }
      },
      "source": [
        "# Basic list functions\n",
        "li=[1,9,16,25,5]\n",
        "print(max(li))\n",
        "print(min(li))\n",
        "print(sum(li))\n",
        "print(sum(li)//len(li))"
      ],
      "execution_count": 0,
      "outputs": [
        {
          "output_type": "stream",
          "text": [
            "25\n",
            "1\n",
            "56\n",
            "11\n"
          ],
          "name": "stdout"
        }
      ]
    },
    {
      "cell_type": "code",
      "metadata": {
        "id": "_7XYbyjlK1sf",
        "colab_type": "code",
        "colab": {
          "base_uri": "https://localhost:8080/",
          "height": 34
        },
        "outputId": "cba13692-e79c-4185-89b2-bab048e885d2"
      },
      "source": [
        "li=[1,9,16,56,25,5,9]\n",
        "li.append(29) #add the new items at li\n",
        "li.insert(2,56) #add the new item at li\n",
        "li.append(9)\n",
        "li.count(9) # return the value\n",
        "#li.index(56) # return the value"
      ],
      "execution_count": 6,
      "outputs": [
        {
          "output_type": "execute_result",
          "data": {
            "text/plain": [
              "3"
            ]
          },
          "metadata": {
            "tags": []
          },
          "execution_count": 6
        }
      ]
    },
    {
      "cell_type": "code",
      "metadata": {
        "id": "WeW4pBAqNQvc",
        "colab_type": "code",
        "colab": {
          "base_uri": "https://localhost:8080/",
          "height": 34
        },
        "outputId": "75be032a-9d63-4357-bccc-1f5c87c458d9"
      },
      "source": [
        "# method of list object\n",
        "li=[1,9,16,56,25,5,9]\n",
        "li.sort() # sorts that list in ascending order \n",
        "li\n",
        "# li.pop() # last index value\n",
        "# li.pop(1) # remove the items for the specified\n",
        "# li"
      ],
      "execution_count": 11,
      "outputs": [
        {
          "output_type": "execute_result",
          "data": {
            "text/plain": [
              "[1, 5, 9, 9, 16, 25, 56]"
            ]
          },
          "metadata": {
            "tags": []
          },
          "execution_count": 11
        }
      ]
    },
    {
      "cell_type": "code",
      "metadata": {
        "id": "Gp569UgoOo4_",
        "colab_type": "code",
        "colab": {
          "base_uri": "https://localhost:8080/",
          "height": 34
        },
        "outputId": "6a0bea80-9f26-41f8-8818-4ae9bb5cfdb0"
      },
      "source": [
        "# method of list object\n",
        "li=[1,9,16,56,25,5,9]\n",
        "#li.sort() # sorts that list in ascending order \n",
        "li.pop() # last index value\n",
        "li\n",
        "# li.pop(1) # remove the items for the specified\n",
        "# li"
      ],
      "execution_count": 14,
      "outputs": [
        {
          "output_type": "execute_result",
          "data": {
            "text/plain": [
              "[1, 9, 16, 56, 25, 5]"
            ]
          },
          "metadata": {
            "tags": []
          },
          "execution_count": 14
        }
      ]
    },
    {
      "cell_type": "code",
      "metadata": {
        "id": "TwH8gZcTPSSM",
        "colab_type": "code",
        "colab": {
          "base_uri": "https://localhost:8080/",
          "height": 34
        },
        "outputId": "2c9ca50b-46d5-40cd-cdf4-e6b2f7af6a7f"
      },
      "source": [
        "# method of list object\n",
        "li=[1,9,16,56,25,5,9]\n",
        "#li.sort() # sorts that list in ascending order \n",
        "#li.pop() # last index value\n",
        "li\n",
        "li.pop(1) # remove the items for the specified\n",
        "li"
      ],
      "execution_count": 15,
      "outputs": [
        {
          "output_type": "execute_result",
          "data": {
            "text/plain": [
              "[1, 16, 56, 25, 5, 9]"
            ]
          },
          "metadata": {
            "tags": []
          },
          "execution_count": 15
        }
      ]
    },
    {
      "cell_type": "code",
      "metadata": {
        "id": "yBpCdTUlP2sc",
        "colab_type": "code",
        "colab": {
          "base_uri": "https://localhost:8080/",
          "height": 34
        },
        "outputId": "e969a0e4-bdf0-47cb-9acb-266d75cbc354"
      },
      "source": [
        "li1 = [1,6,19,25]\n",
        "li.extend(li1)\n",
        "li\n",
        "# li.reverse()\n",
        "# li.sort() "
      ],
      "execution_count": 16,
      "outputs": [
        {
          "output_type": "execute_result",
          "data": {
            "text/plain": [
              "[1, 16, 56, 25, 5, 9, 1, 6, 19, 25]"
            ]
          },
          "metadata": {
            "tags": []
          },
          "execution_count": 16
        }
      ]
    },
    {
      "cell_type": "code",
      "metadata": {
        "id": "jQE8fGzfQiu1",
        "colab_type": "code",
        "colab": {
          "base_uri": "https://localhost:8080/",
          "height": 34
        },
        "outputId": "b46ad552-004a-45a9-f136-26795bd3c62f"
      },
      "source": [
        "li1 = [1,6,19,25]\n",
        "# li.extend(li1)\n",
        "li1.reverse()\n",
        "li1\n",
        "# li.sort() "
      ],
      "execution_count": 17,
      "outputs": [
        {
          "output_type": "execute_result",
          "data": {
            "text/plain": [
              "[25, 19, 6, 1]"
            ]
          },
          "metadata": {
            "tags": []
          },
          "execution_count": 17
        }
      ]
    },
    {
      "cell_type": "code",
      "metadata": {
        "id": "Yamd3n-uRets",
        "colab_type": "code",
        "colab": {
          "base_uri": "https://localhost:8080/",
          "height": 51
        },
        "outputId": "b009a478-e536-4013-fe2b-5280ecb29115"
      },
      "source": [
        "def largenumber(li):\n",
        "  li.sort()\n",
        "  return li[-1]\n",
        "def genericlarge(li,n):\n",
        "    li.sort()\n",
        "    return li[-n]\n",
        "li=[19,1,25,6,9,45,22]\n",
        "print(largenumber(li))\n",
        "print(genericlarge(li,3))"
      ],
      "execution_count": 20,
      "outputs": [
        {
          "output_type": "stream",
          "text": [
            "45\n",
            "22\n"
          ],
          "name": "stdout"
        }
      ]
    },
    {
      "cell_type": "code",
      "metadata": {
        "id": "rKL_Zf49Snha",
        "colab_type": "code",
        "colab": {
          "base_uri": "https://localhost:8080/",
          "height": 51
        },
        "outputId": "c7c5979e-916b-4ab6-a44f-f38e8680e32d"
      },
      "source": [
        "def smallestnumber(li):\n",
        "  li.sort()\n",
        "  return li[0]\n",
        "def genericsmall(li,n):\n",
        "    li.sort()\n",
        "    return li[n-1]\n",
        "li=[19,1,25,6,9,45,22]\n",
        "print(smallestnumber(li))\n",
        "print(genericsmall(li,3))"
      ],
      "execution_count": 32,
      "outputs": [
        {
          "output_type": "stream",
          "text": [
            "1\n",
            "9\n"
          ],
          "name": "stdout"
        }
      ]
    },
    {
      "cell_type": "markdown",
      "metadata": {
        "id": "OjUnAczoZEQn",
        "colab_type": "text"
      },
      "source": [
        "### Tuples\n",
        "-parenthesis()--->Tuple and square brackets[]--->list\n",
        "-difference b/w tuples and list\n",
        "     -list are mutable - can be changed or modified\n",
        "     -used to access and modify,add,delete data\n",
        "     -tuples are immutable - cannot be changed\n",
        "     -uesd to access data only\n",
        "     "
      ]
    },
    {
      "cell_type": "code",
      "metadata": {
        "id": "zQDA_781aJVd",
        "colab_type": "code",
        "colab": {
          "base_uri": "https://localhost:8080/",
          "height": 34
        },
        "outputId": "f7eb3b50-3333-4690-e3e0-5c61c05bbc07"
      },
      "source": [
        "t1=(1,2,3,4,5,6)\n",
        "t1\n",
        "print(type(t1),t1[1:5])"
      ],
      "execution_count": 33,
      "outputs": [
        {
          "output_type": "stream",
          "text": [
            "<class 'tuple'> (2, 3, 4, 5)\n"
          ],
          "name": "stdout"
        }
      ]
    },
    {
      "cell_type": "markdown",
      "metadata": {
        "id": "Aa07euFKdqCZ",
        "colab_type": "text"
      },
      "source": [
        "### Dictionaries\n",
        "1. it works on the concept of set unique Data\n",
        "2. keys,values is the unique identifier for the value\n",
        "3. each key is seperated from its values with colon(:)\n",
        "4. each key and value is seperated by comma(,)\n",
        "5. dictionaries enhanced with curly braces({})\n"
      ]
    },
    {
      "cell_type": "code",
      "metadata": {
        "id": "765kbYXcdsWw",
        "colab_type": "code",
        "colab": {
          "base_uri": "https://localhost:8080/",
          "height": 34
        },
        "outputId": "348867b8-479d-4624-8152-8b1fb6f7293d"
      },
      "source": [
        "d1={\"name\":\"gitam\",\"email id\":\"gitam@gmail.com\",\"address\":\"Hyderabad\"}\n",
        "d1[\"email id\"]=\"221710404021@gmail.com\" # update the data\n",
        "d1"
      ],
      "execution_count": 41,
      "outputs": [
        {
          "output_type": "execute_result",
          "data": {
            "text/plain": [
              "{'address': 'Hyderabad', 'email id': '221710404021@gmail.com', 'name': 'gitam'}"
            ]
          },
          "metadata": {
            "tags": []
          },
          "execution_count": 41
        }
      ]
    },
    {
      "cell_type": "code",
      "metadata": {
        "id": "wQEUZhIFevqx",
        "colab_type": "code",
        "colab": {
          "base_uri": "https://localhost:8080/",
          "height": 34
        },
        "outputId": "8f6c5e0a-98eb-49fb-bbdd-b9f448702b49"
      },
      "source": [
        "d1[\"email id\"]"
      ],
      "execution_count": 39,
      "outputs": [
        {
          "output_type": "execute_result",
          "data": {
            "text/plain": [
              "'221710404021@gmail.com'"
            ]
          },
          "metadata": {
            "tags": []
          },
          "execution_count": 39
        }
      ]
    },
    {
      "cell_type": "code",
      "metadata": {
        "id": "RiADZZh6e5Jk",
        "colab_type": "code",
        "colab": {
          "base_uri": "https://localhost:8080/",
          "height": 85
        },
        "outputId": "02c5c7c9-296f-4e37-dfb7-79d4a5a4a384"
      },
      "source": [
        "d1[\"course\"]= \"python\" # adding on entry\n",
        "d1"
      ],
      "execution_count": 42,
      "outputs": [
        {
          "output_type": "execute_result",
          "data": {
            "text/plain": [
              "{'address': 'Hyderabad',\n",
              " 'course': 'python',\n",
              " 'email id': '221710404021@gmail.com',\n",
              " 'name': 'gitam'}"
            ]
          },
          "metadata": {
            "tags": []
          },
          "execution_count": 42
        }
      ]
    },
    {
      "cell_type": "code",
      "metadata": {
        "id": "R5DmQ81wfIQs",
        "colab_type": "code",
        "colab": {
          "base_uri": "https://localhost:8080/",
          "height": 34
        },
        "outputId": "7ef86354-a2bb-4391-dcb6-85de6c8eb983"
      },
      "source": [
        "del d1[\"email id\"]\n",
        "d1"
      ],
      "execution_count": 43,
      "outputs": [
        {
          "output_type": "execute_result",
          "data": {
            "text/plain": [
              "{'address': 'Hyderabad', 'course': 'python', 'name': 'gitam'}"
            ]
          },
          "metadata": {
            "tags": []
          },
          "execution_count": 43
        }
      ]
    },
    {
      "cell_type": "code",
      "metadata": {
        "id": "jGM8s0zLgv-q",
        "colab_type": "code",
        "colab": {
          "base_uri": "https://localhost:8080/",
          "height": 34
        },
        "outputId": "6da7f0ec-195e-422f-baca-239142d683ca"
      },
      "source": [
        "d1.keys()"
      ],
      "execution_count": 44,
      "outputs": [
        {
          "output_type": "execute_result",
          "data": {
            "text/plain": [
              "dict_keys(['name', 'address', 'course'])"
            ]
          },
          "metadata": {
            "tags": []
          },
          "execution_count": 44
        }
      ]
    },
    {
      "cell_type": "code",
      "metadata": {
        "id": "X5uzUdSdgzY1",
        "colab_type": "code",
        "colab": {
          "base_uri": "https://localhost:8080/",
          "height": 34
        },
        "outputId": "15c8b18d-5376-41a0-99be-bb30c5c54d55"
      },
      "source": [
        "d1.values()"
      ],
      "execution_count": 45,
      "outputs": [
        {
          "output_type": "execute_result",
          "data": {
            "text/plain": [
              "dict_values(['gitam', 'Hyderabad', 'python'])"
            ]
          },
          "metadata": {
            "tags": []
          },
          "execution_count": 45
        }
      ]
    },
    {
      "cell_type": "code",
      "metadata": {
        "id": "TMR3LmZ4g4f0",
        "colab_type": "code",
        "colab": {
          "base_uri": "https://localhost:8080/",
          "height": 34
        },
        "outputId": "51dbd6c3-5459-4390-ffd8-c504a863d4a4"
      },
      "source": [
        "d1.items() # the list of tuples of keys and values"
      ],
      "execution_count": 47,
      "outputs": [
        {
          "output_type": "execute_result",
          "data": {
            "text/plain": [
              "dict_items([('name', 'gitam'), ('address', 'Hyderabad'), ('course', 'python')])"
            ]
          },
          "metadata": {
            "tags": []
          },
          "execution_count": 47
        }
      ]
    },
    {
      "cell_type": "markdown",
      "metadata": {
        "id": "fQn_QqlwiJdE",
        "colab_type": "text"
      },
      "source": [
        "### STRING\n",
        "-strings\n",
        "-string slicings\n",
        "-fundamental programming with string in python"
      ]
    },
    {
      "cell_type": "code",
      "metadata": {
        "id": "kQelQ5jng7XB",
        "colab_type": "code",
        "colab": {
          "base_uri": "https://localhost:8080/",
          "height": 51
        },
        "outputId": "69da06cf-e094-4bb4-a93a-1ff676e9e694"
      },
      "source": [
        "s1 =\"python\"\n",
        "print(s1)\n",
        "print(type(s1))"
      ],
      "execution_count": 48,
      "outputs": [
        {
          "output_type": "stream",
          "text": [
            "python\n",
            "<class 'str'>\n"
          ],
          "name": "stdout"
        }
      ]
    },
    {
      "cell_type": "code",
      "metadata": {
        "id": "fTQFaZ-_izzs",
        "colab_type": "code",
        "colab": {
          "base_uri": "https://localhost:8080/",
          "height": 85
        },
        "outputId": "30f11d32-765d-42fc-d34c-de11c1469ea9"
      },
      "source": [
        "s1=\"python\"\n",
        "print(s1[0]) #Access the first character\n",
        "print(s1[1]) #Access the second character\n",
        "print(s1[5]) #last character\n",
        "print(s1[len(s1)-1]) #Access the last character"
      ],
      "execution_count": 55,
      "outputs": [
        {
          "output_type": "stream",
          "text": [
            "p\n",
            "y\n",
            "n\n",
            "n\n"
          ],
          "name": "stdout"
        }
      ]
    },
    {
      "cell_type": "code",
      "metadata": {
        "id": "OEgD0YpfjZat",
        "colab_type": "code",
        "colab": {
          "base_uri": "https://localhost:8080/",
          "height": 119
        },
        "outputId": "de7ac598-7615-4787-e3a1-55d9e81e5d0e"
      },
      "source": [
        "print(s1[-1]) # another way access the last letter\n",
        "print(s1[-2]) # another way to access the last second letter\n",
        "print(s1[0:2]) # access the first letter\n",
        "print(s1[:2]) #  access first two letters\n",
        "print(s1[-3:]) # access last 3 letters\n",
        "print(s1[2:]) # access last 4 letters"
      ],
      "execution_count": 56,
      "outputs": [
        {
          "output_type": "stream",
          "text": [
            "n\n",
            "o\n",
            "py\n",
            "py\n",
            "hon\n",
            "thon\n"
          ],
          "name": "stdout"
        }
      ]
    },
    {
      "cell_type": "code",
      "metadata": {
        "id": "8nLATmsKkhxd",
        "colab_type": "code",
        "colab": {
          "base_uri": "https://localhost:8080/",
          "height": 136
        },
        "outputId": "30cfbe41-a78b-4349-a16e-bc07484bafdf"
      },
      "source": [
        "print(s1[1:-1]) # print all characters ecxept first and last\n",
        "print(s1[len(s1)//2]) # middle of the string\n",
        "print(s1[-1::-1]) # reverse of the string\n",
        "print(s1[-1:-3:-1]) # access last 2 characters in reverse order \n",
        "# access alternate characters\n",
        "print(s1[::2]) # 2 characters\n",
        "print(s1[::3]) # 3 characters\n",
        "print(s1[::-2]) # from reverse order"
      ],
      "execution_count": 57,
      "outputs": [
        {
          "output_type": "stream",
          "text": [
            "ytho\n",
            "h\n",
            "nohtyp\n",
            "no\n",
            "pto\n",
            "ph\n",
            "nhy\n"
          ],
          "name": "stdout"
        }
      ]
    },
    {
      "cell_type": "code",
      "metadata": {
        "id": "FSd9H3BCm2Rt",
        "colab_type": "code",
        "colab": {
          "base_uri": "https://localhost:8080/",
          "height": 34
        },
        "outputId": "00844950-6ce2-4604-ef66-44872f2c1e03"
      },
      "source": [
        "# Reversing a string\n",
        "def reversestring(str):\n",
        "    return str[-1::-1]\n",
        "reversestring(\"programming\")"
      ],
      "execution_count": 60,
      "outputs": [
        {
          "output_type": "execute_result",
          "data": {
            "text/plain": [
              "'gnimmargorp'"
            ]
          },
          "metadata": {
            "tags": []
          },
          "execution_count": 60
        }
      ]
    },
    {
      "cell_type": "code",
      "metadata": {
        "id": "F-wIfs7Bn4Y2",
        "colab_type": "code",
        "colab": {
          "base_uri": "https://localhost:8080/",
          "height": 51
        },
        "outputId": "667000db-17d2-446a-faab-94f4fef61e46"
      },
      "source": [
        "# check whether the given string is palindrome or not\n",
        "def ispalindrome(str):\n",
        "    if str == str[::-1]:\n",
        "      return True\n",
        "    else:\n",
        "      return False\n",
        "    return\n",
        "print(ispalindrome(\"python\"))\n",
        "print(ispalindrome(\"ganag\"))"
      ],
      "execution_count": 65,
      "outputs": [
        {
          "output_type": "stream",
          "text": [
            "False\n",
            "True\n"
          ],
          "name": "stdout"
        }
      ]
    },
    {
      "cell_type": "markdown",
      "metadata": {
        "id": "WQ0PHusLpwRG",
        "colab_type": "text"
      },
      "source": [
        "## string built-in methods:\n",
        "1. upper()--will convert input string into upper case\n",
        "2. lower()--will convert input string into lower case"
      ]
    },
    {
      "cell_type": "code",
      "metadata": {
        "id": "3Dpw0mlipC8V",
        "colab_type": "code",
        "colab": {
          "base_uri": "https://localhost:8080/",
          "height": 51
        },
        "outputId": "156c963f-b206-4a1c-e67e-04c33b0c0dab"
      },
      "source": [
        "s1='python'\n",
        "print(s1.upper())\n",
        "print(s1.lower())"
      ],
      "execution_count": 67,
      "outputs": [
        {
          "output_type": "stream",
          "text": [
            "PYTHON\n",
            "python\n"
          ],
          "name": "stdout"
        }
      ]
    },
    {
      "cell_type": "code",
      "metadata": {
        "id": "i6sdUrY9qdhV",
        "colab_type": "code",
        "colab": {}
      },
      "source": [
        "### string boolean built-in methods\n",
        "1. upper()\n",
        "2. lower()\n",
        "3. islower()\n",
        "4. isupper()\n",
        "5. istitle()\n",
        "6. isnumeric()\n",
        "7. isalpha()\n",
        "8. isspace"
      ],
      "execution_count": 0,
      "outputs": []
    },
    {
      "cell_type": "code",
      "metadata": {
        "id": "ObcPhlzvrWcI",
        "colab_type": "code",
        "colab": {
          "base_uri": "https://localhost:8080/",
          "height": 153
        },
        "outputId": "8077d982-1342-4b8a-d821-88622d13bccd"
      },
      "source": [
        "s1='python'\n",
        "print(s1.upper())\n",
        "print(s1.lower())\n",
        "print(s1.islower())\n",
        "print(s1.isupper())\n",
        "print(s1.istitle())\n",
        "print(s1.isnumeric())\n",
        "print(s1.isalpha())\n",
        "print(s1.isspace())"
      ],
      "execution_count": 68,
      "outputs": [
        {
          "output_type": "stream",
          "text": [
            "PYTHON\n",
            "python\n",
            "True\n",
            "False\n",
            "False\n",
            "False\n",
            "True\n",
            "False\n"
          ],
          "name": "stdout"
        }
      ]
    },
    {
      "cell_type": "code",
      "metadata": {
        "id": "g_bcIVxQr1pm",
        "colab_type": "code",
        "colab": {
          "base_uri": "https://localhost:8080/",
          "height": 34
        },
        "outputId": "286746df-47f9-4054-ef0e-06409cf69b26"
      },
      "source": [
        "s1=\" \"\n",
        "print(s1.isspace())"
      ],
      "execution_count": 69,
      "outputs": [
        {
          "output_type": "stream",
          "text": [
            "True\n"
          ],
          "name": "stdout"
        }
      ]
    },
    {
      "cell_type": "markdown",
      "metadata": {
        "id": "26MxJGD0tYrg",
        "colab_type": "text"
      },
      "source": [
        "# String Methods\n",
        "-join()\n",
        "-split()\n",
        "-replace()"
      ]
    },
    {
      "cell_type": "code",
      "metadata": {
        "id": "sWFapSostFgA",
        "colab_type": "code",
        "colab": {
          "base_uri": "https://localhost:8080/",
          "height": 34
        },
        "outputId": "52915323-49bc-4f36-82b7-481312b85fcf"
      },
      "source": [
        "s1='Python'\n",
        "print(\" \".join(s1))\n"
      ],
      "execution_count": 70,
      "outputs": [
        {
          "output_type": "stream",
          "text": [
            "P y t h o n\n"
          ],
          "name": "stdout"
        }
      ]
    },
    {
      "cell_type": "code",
      "metadata": {
        "id": "yCVJvUYPt4f2",
        "colab_type": "code",
        "colab": {
          "base_uri": "https://localhost:8080/",
          "height": 34
        },
        "outputId": "4b3e2fde-b47f-470c-9561-ba27933d98fc"
      },
      "source": [
        "s2=\"Python programming easy to learn\"\n",
        "print(\",\".join(s2))"
      ],
      "execution_count": 71,
      "outputs": [
        {
          "output_type": "stream",
          "text": [
            "P,y,t,h,o,n, ,p,r,o,g,r,a,m,m,i,n,g, ,e,a,s,y, ,t,o, ,l,e,a,r,n\n"
          ],
          "name": "stdout"
        }
      ]
    },
    {
      "cell_type": "code",
      "metadata": {
        "id": "tw2VyWiWuKLh",
        "colab_type": "code",
        "colab": {
          "base_uri": "https://localhost:8080/",
          "height": 34
        },
        "outputId": "fb878f69-2589-4306-ef68-32d9d65eef24"
      },
      "source": [
        "li=['Python','programming','learn']\n",
        "print(\",\".join(li))"
      ],
      "execution_count": 72,
      "outputs": [
        {
          "output_type": "stream",
          "text": [
            "Python,programming,learn\n"
          ],
          "name": "stdout"
        }
      ]
    },
    {
      "cell_type": "code",
      "metadata": {
        "id": "mZKOaypPubqN",
        "colab_type": "code",
        "colab": {
          "base_uri": "https://localhost:8080/",
          "height": 34
        },
        "outputId": "b570085d-489f-49d2-bce9-689aca7b9982"
      },
      "source": [
        "s2=\"Python programming easy to learn\"\n",
        "print(s2.split())"
      ],
      "execution_count": 73,
      "outputs": [
        {
          "output_type": "stream",
          "text": [
            "['Python', 'programming', 'easy', 'to', 'learn']\n"
          ],
          "name": "stdout"
        }
      ]
    },
    {
      "cell_type": "code",
      "metadata": {
        "id": "FtrGdsqrvCaF",
        "colab_type": "code",
        "colab": {
          "base_uri": "https://localhost:8080/",
          "height": 34
        },
        "outputId": "e036c5ba-bcac-4c85-e8ca-c98c5b77c812"
      },
      "source": [
        "s2=\"Python programming easy to learn\"\n",
        "print(s2.split('a'))"
      ],
      "execution_count": 75,
      "outputs": [
        {
          "output_type": "stream",
          "text": [
            "['Python progr', 'mming e', 'sy to le', 'rn']\n"
          ],
          "name": "stdout"
        }
      ]
    },
    {
      "cell_type": "code",
      "metadata": {
        "id": "nuyruU42vdCu",
        "colab_type": "code",
        "colab": {
          "base_uri": "https://localhost:8080/",
          "height": 68
        },
        "outputId": "793d5d5d-f30e-456b-8367-c2f528e85fc9"
      },
      "source": [
        "s2=\"Python programming easy to learn\"\n",
        "print(len(s2))\n",
        "li=s2.split() # split the string--list objects\n",
        "print(li)\n",
        "print(len(li))"
      ],
      "execution_count": 76,
      "outputs": [
        {
          "output_type": "stream",
          "text": [
            "32\n",
            "['Python', 'programming', 'easy', 'to', 'learn']\n",
            "5\n"
          ],
          "name": "stdout"
        }
      ]
    },
    {
      "cell_type": "code",
      "metadata": {
        "id": "UBzC33bowGRV",
        "colab_type": "code",
        "colab": {
          "base_uri": "https://localhost:8080/",
          "height": 54
        },
        "outputId": "363e130c-25a4-4da7-b997-08f14f852539"
      },
      "source": [
        "s2=\"Python programming easy to learn\"\n",
        "li=list(s2)\n",
        "print(li)"
      ],
      "execution_count": 77,
      "outputs": [
        {
          "output_type": "stream",
          "text": [
            "['P', 'y', 't', 'h', 'o', 'n', ' ', 'p', 'r', 'o', 'g', 'r', 'a', 'm', 'm', 'i', 'n', 'g', ' ', 'e', 'a', 's', 'y', ' ', 't', 'o', ' ', 'l', 'e', 'a', 'r', 'n']\n"
          ],
          "name": "stdout"
        }
      ]
    },
    {
      "cell_type": "code",
      "metadata": {
        "id": "zxVgIQQAwZWe",
        "colab_type": "code",
        "colab": {
          "base_uri": "https://localhost:8080/",
          "height": 34
        },
        "outputId": "6a71f667-d18e-467c-830b-e8a7eb0ac0f9"
      },
      "source": [
        "s2=\"Python programming easy to learn\"\n",
        "print(s2.replace(\"gra\",\"Application\"))"
      ],
      "execution_count": 79,
      "outputs": [
        {
          "output_type": "stream",
          "text": [
            "Python proApplicationmming easy to learn\n"
          ],
          "name": "stdout"
        }
      ]
    },
    {
      "cell_type": "code",
      "metadata": {
        "id": "YUkgzHsOwltv",
        "colab_type": "code",
        "colab": {}
      },
      "source": [
        ""
      ],
      "execution_count": 0,
      "outputs": []
    }
  ]
}