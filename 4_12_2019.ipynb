{
  "nbformat": 4,
  "nbformat_minor": 0,
  "metadata": {
    "colab": {
      "name": "4/12/2019",
      "provenance": [],
      "include_colab_link": true
    },
    "kernelspec": {
      "name": "python3",
      "display_name": "Python 3"
    }
  },
  "cells": [
    {
      "cell_type": "markdown",
      "metadata": {
        "id": "view-in-github",
        "colab_type": "text"
      },
      "source": [
        "<a href=\"https://colab.research.google.com/github/Hemanthjetti/crtprogram/blob/master/4_12_2019.ipynb\" target=\"_parent\"><img src=\"https://colab.research.google.com/assets/colab-badge.svg\" alt=\"Open In Colab\"/></a>"
      ]
    },
    {
      "cell_type": "markdown",
      "metadata": {
        "id": "zDlAAzk1BzU-",
        "colab_type": "text"
      },
      "source": [
        "### FUNCTIONAL PROGRAMING\n",
        "1. SIMPLE\n",
        "2. EASY TO UNDERSTAND\n",
        "3. BETTER REUSEABILITY\n",
        "4. LENGTH OF PROGRAM WILL BE DIVIDED INTO SUB PROGRAMS\n"
      ]
    },
    {
      "cell_type": "markdown",
      "metadata": {
        "id": "_LTofGvWDD4z",
        "colab_type": "text"
      },
      "source": [
        "def nameoffunction(<parameters>):\n",
        "    statements\n",
        "    return"
      ]
    },
    {
      "cell_type": "code",
      "metadata": {
        "id": "9KcC9YwUGit2",
        "colab_type": "code",
        "colab": {
          "base_uri": "https://localhost:8080/",
          "height": 34
        },
        "outputId": "f635243c-dcc8-4bc5-fc9b-95cea0ade4c9"
      },
      "source": [
        "# Read a number\n",
        "# Print the even digit sum from the number\n",
        "\n",
        "# input : 1234\n",
        "# output :6(2+4)\n",
        "def evendigitsum(n):\n",
        "    s = 0\n",
        "    while n != 0:\n",
        "          r=n%10\n",
        "          if r%2==0:\n",
        "             s=s+r\n",
        "          n=n//10\n",
        "    return s\n",
        "evendigitsum(1234)"
      ],
      "execution_count": 14,
      "outputs": [
        {
          "output_type": "execute_result",
          "data": {
            "text/plain": [
              "6"
            ]
          },
          "metadata": {
            "tags": []
          },
          "execution_count": 14
        }
      ]
    },
    {
      "cell_type": "code",
      "metadata": {
        "id": "TloOLmBMHruE",
        "colab_type": "code",
        "colab": {
          "base_uri": "https://localhost:8080/",
          "height": 51
        },
        "outputId": "d82b4825-a6f9-4e90-e36e-1b441f0504a6"
      },
      "source": [
        "# define return function\n",
        "def square(x):\n",
        "    print(x*x)\n",
        "print(square(4))"
      ],
      "execution_count": 16,
      "outputs": [
        {
          "output_type": "stream",
          "text": [
            "16\n",
            "None\n"
          ],
          "name": "stdout"
        }
      ]
    },
    {
      "cell_type": "code",
      "metadata": {
        "id": "nBpIhG_TGvJN",
        "colab_type": "code",
        "colab": {
          "base_uri": "https://localhost:8080/",
          "height": 34
        },
        "outputId": "5757ad0d-d73a-4fdf-f291-853a37be9fe6"
      },
      "source": [
        "def square(x):\n",
        "   return(x*x)\n",
        "square(3)"
      ],
      "execution_count": 19,
      "outputs": [
        {
          "output_type": "execute_result",
          "data": {
            "text/plain": [
              "9"
            ]
          },
          "metadata": {
            "tags": []
          },
          "execution_count": 19
        }
      ]
    },
    {
      "cell_type": "code",
      "metadata": {
        "id": "3w7xe3mzIZPZ",
        "colab_type": "code",
        "colab": {
          "base_uri": "https://localhost:8080/",
          "height": 34
        },
        "outputId": "42c44e8c-baa4-4b77-e09c-46871ab8d4d9"
      },
      "source": [
        "def cube(x):\n",
        "   return(x*x*x)\n",
        "print(cube(5))"
      ],
      "execution_count": 21,
      "outputs": [
        {
          "output_type": "stream",
          "text": [
            "125\n"
          ],
          "name": "stdout"
        }
      ]
    },
    {
      "cell_type": "code",
      "metadata": {
        "id": "bcFeCDLAJCer",
        "colab_type": "code",
        "colab": {
          "base_uri": "https://localhost:8080/",
          "height": 68
        },
        "outputId": "aeead272-4690-4d28-b56d-cfab0b91b105"
      },
      "source": [
        "def multiply(x,y=0):\n",
        "    print(\"value of x=\",x)\n",
        "    print(\"value of y=\",y)\n",
        "    return(x*y)\n",
        "print(multiply(y=2,x=4))"
      ],
      "execution_count": 22,
      "outputs": [
        {
          "output_type": "stream",
          "text": [
            "value of x= 4\n",
            "value of y= 2\n",
            "8\n"
          ],
          "name": "stdout"
        }
      ]
    },
    {
      "cell_type": "code",
      "metadata": {
        "id": "18ZLZ_MpKcCi",
        "colab_type": "code",
        "colab": {
          "base_uri": "https://localhost:8080/",
          "height": 34
        },
        "outputId": "79f2fdbf-113a-4616-8380-ce8c755577b0"
      },
      "source": [
        "# swap values\n",
        "def swap(x=2,y=3):\n",
        "    temp = x\n",
        "    x=y\n",
        "    y = temp\n",
        "    return(x,y)\n",
        "swap(2,3)\n"
      ],
      "execution_count": 29,
      "outputs": [
        {
          "output_type": "execute_result",
          "data": {
            "text/plain": [
              "(3, 2)"
            ]
          },
          "metadata": {
            "tags": []
          },
          "execution_count": 29
        }
      ]
    },
    {
      "cell_type": "code",
      "metadata": {
        "id": "uDY-3rCKLiUT",
        "colab_type": "code",
        "colab": {
          "base_uri": "https://localhost:8080/",
          "height": 34
        },
        "outputId": "5436c0cc-03c7-4e45-c5e8-a79f4391fd18"
      },
      "source": [
        "#input : 19535\n",
        "#output : 9(large digit of the given no)\n",
        "def largedigitof(n):\n",
        "    large = 0\n",
        "    while n!=0:\n",
        "          r=n%10\n",
        "          if large <r:\n",
        "             large=r\n",
        "          n=n//10\n",
        "    return large\n",
        "largedigitof(19535)"
      ],
      "execution_count": 33,
      "outputs": [
        {
          "output_type": "execute_result",
          "data": {
            "text/plain": [
              "9"
            ]
          },
          "metadata": {
            "tags": []
          },
          "execution_count": 33
        }
      ]
    },
    {
      "cell_type": "markdown",
      "metadata": {
        "id": "1iWk3k7_Suee",
        "colab_type": "text"
      },
      "source": [
        "## for loop\n",
        "#### syntax1:\n",
        "for i in range (start,stop,step)\n",
        ">statements\n",
        "####syntax2:\n",
        "for i in iterableobject:\n",
        ">statements"
      ]
    },
    {
      "cell_type": "code",
      "metadata": {
        "id": "FSBKw5UKTXOl",
        "colab_type": "code",
        "colab": {
          "base_uri": "https://localhost:8080/",
          "height": 34
        },
        "outputId": "c5c90080-7eb0-4074-feb0-79b88c6d8f5c"
      },
      "source": [
        "# function to print a prime number b/w two limits\n",
        "\n",
        "def printseries(lb,ub):\n",
        "    for x in range(lb,ub+1):\n",
        "        print(x,end=' ')\n",
        "    return\n",
        "printseries(1,10)"
      ],
      "execution_count": 34,
      "outputs": [
        {
          "output_type": "stream",
          "text": [
            "1 2 3 4 5 6 7 8 9 10 "
          ],
          "name": "stdout"
        }
      ]
    },
    {
      "cell_type": "markdown",
      "metadata": {
        "id": "3VdwaHfjWcVM",
        "colab_type": "text"
      },
      "source": [
        "# DATA STRUCTURES\n",
        "\n",
        "##collection types:\n",
        "1. list\n",
        "2. tuple\n",
        "3. set\n",
        "4. dictionary\n",
        "\n"
      ]
    },
    {
      "cell_type": "markdown",
      "metadata": {
        "id": "XQ3GxFTPXEJ8",
        "colab_type": "text"
      },
      "source": [
        "### list\n",
        " -one of the data structure in python\n",
        " -data structure means to store,sort and search options\n",
        " -it's one common data structure in python,the items of listseperated by coma and enclosed in square brackets[]\n",
        "\n",
        " ### examples\n",
        " "
      ]
    },
    {
      "cell_type": "code",
      "metadata": {
        "id": "POqX0jx2X9gE",
        "colab_type": "code",
        "colab": {
          "base_uri": "https://localhost:8080/",
          "height": 153
        },
        "outputId": "e29b1b58-bf8f-4e47-ee0f-843d2dc84df6"
      },
      "source": [
        "li=[1,8,16,9,2]\n",
        "print(li)#will print all the list items\n",
        "print(li[0])\n",
        "print(li[1])\n",
        "print(li[-5])\n",
        "print(li[2:])\n",
        "print(li[1:])\n",
        "print(li[2:4])\n",
        "print(li[-4:-2])\n"
      ],
      "execution_count": 47,
      "outputs": [
        {
          "output_type": "stream",
          "text": [
            "[1, 8, 16, 9, 2]\n",
            "1\n",
            "8\n",
            "1\n",
            "[16, 9, 2]\n",
            "[8, 16, 9, 2]\n",
            "[16, 9]\n",
            "[8, 16]\n"
          ],
          "name": "stdout"
        }
      ]
    },
    {
      "cell_type": "code",
      "metadata": {
        "id": "nRV1PX2BbdTd",
        "colab_type": "code",
        "colab": {
          "base_uri": "https://localhost:8080/",
          "height": 51
        },
        "outputId": "838c45a7-55c3-4c6f-9e0b-62b67cf6077c"
      },
      "source": [
        "# update list\n",
        "li=['gitam',1234,'hyd']\n",
        "print(li)\n",
        "li[1]=456\n",
        "print(li)\n"
      ],
      "execution_count": 49,
      "outputs": [
        {
          "output_type": "stream",
          "text": [
            "['gitam', 1234, 'hyd']\n",
            "['gitam', 456, 'hyd']\n"
          ],
          "name": "stdout"
        }
      ]
    },
    {
      "cell_type": "code",
      "metadata": {
        "id": "D5B0MQgxb94g",
        "colab_type": "code",
        "colab": {
          "base_uri": "https://localhost:8080/",
          "height": 51
        },
        "outputId": "15991460-cbd7-4197-89be-ff2740350ac3"
      },
      "source": [
        "li=['gitam',1234,2018,2019,'hyd']\n",
        "print(li)\n",
        "del li[3]\n",
        "print(li)\n"
      ],
      "execution_count": 51,
      "outputs": [
        {
          "output_type": "stream",
          "text": [
            "['gitam', 1234, 2018, 2019, 'hyd']\n",
            "['gitam', 1234, 2018, 'hyd']\n"
          ],
          "name": "stdout"
        }
      ]
    },
    {
      "cell_type": "code",
      "metadata": {
        "id": "GFxTLEZpdMID",
        "colab_type": "code",
        "colab": {
          "base_uri": "https://localhost:8080/",
          "height": 34
        },
        "outputId": "81c094ac-a553-46c0-a2ec-2fcd68387fdd"
      },
      "source": [
        "# basic list operations\n",
        "li=[1,2,3,4]\n",
        "#len of the string\n",
        "print(len(li))"
      ],
      "execution_count": 52,
      "outputs": [
        {
          "output_type": "stream",
          "text": [
            "4\n"
          ],
          "name": "stdout"
        }
      ]
    },
    {
      "cell_type": "code",
      "metadata": {
        "id": "nBnft_UsdsY0",
        "colab_type": "code",
        "colab": {}
      },
      "source": [
        ""
      ],
      "execution_count": 0,
      "outputs": []
    }
  ]
}